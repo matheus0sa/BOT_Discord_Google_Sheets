{
  "nbformat": 4,
  "nbformat_minor": 0,
  "metadata": {
    "colab": {
      "name": "Bot Discord.ipynb",
      "provenance": [],
      "authorship_tag": "ABX9TyOSc9YR2XdepNLutUZyyPN3",
      "include_colab_link": true
    },
    "kernelspec": {
      "name": "python3",
      "display_name": "Python 3"
    },
    "language_info": {
      "name": "python"
    }
  },
  "cells": [
    {
      "cell_type": "markdown",
      "metadata": {
        "id": "view-in-github",
        "colab_type": "text"
      },
      "source": [
        "<a href=\"https://colab.research.google.com/github/matheus0sa/BOT_Discord_Google_Sheets/blob/main/Bot_Discord.ipynb\" target=\"_parent\"><img src=\"https://colab.research.google.com/assets/colab-badge.svg\" alt=\"Open In Colab\"/></a>"
      ]
    },
    {
      "cell_type": "code",
      "metadata": {
        "id": "R2W8abcdqppu",
        "colab": {
          "base_uri": "https://localhost:8080/"
        },
        "outputId": "058e7898-08d8-4e34-ff9e-9b2ff677f2eb"
      },
      "source": [
        "!pip install --upgrade gspread"
      ],
      "execution_count": 1,
      "outputs": [
        {
          "output_type": "stream",
          "name": "stdout",
          "text": [
            "Requirement already satisfied: gspread in /usr/local/lib/python3.7/dist-packages (3.4.2)\n",
            "Collecting gspread\n",
            "  Downloading gspread-5.3.2-py3-none-any.whl (34 kB)\n",
            "Requirement already satisfied: google-auth>=1.12.0 in /usr/local/lib/python3.7/dist-packages (from gspread) (1.35.0)\n",
            "Requirement already satisfied: google-auth-oauthlib>=0.4.1 in /usr/local/lib/python3.7/dist-packages (from gspread) (0.4.6)\n",
            "Requirement already satisfied: pyasn1-modules>=0.2.1 in /usr/local/lib/python3.7/dist-packages (from google-auth>=1.12.0->gspread) (0.2.8)\n",
            "Requirement already satisfied: six>=1.9.0 in /usr/local/lib/python3.7/dist-packages (from google-auth>=1.12.0->gspread) (1.15.0)\n",
            "Requirement already satisfied: cachetools<5.0,>=2.0.0 in /usr/local/lib/python3.7/dist-packages (from google-auth>=1.12.0->gspread) (4.2.4)\n",
            "Requirement already satisfied: rsa<5,>=3.1.4 in /usr/local/lib/python3.7/dist-packages (from google-auth>=1.12.0->gspread) (4.8)\n",
            "Requirement already satisfied: setuptools>=40.3.0 in /usr/local/lib/python3.7/dist-packages (from google-auth>=1.12.0->gspread) (57.4.0)\n",
            "Requirement already satisfied: requests-oauthlib>=0.7.0 in /usr/local/lib/python3.7/dist-packages (from google-auth-oauthlib>=0.4.1->gspread) (1.3.1)\n",
            "Requirement already satisfied: pyasn1<0.5.0,>=0.4.6 in /usr/local/lib/python3.7/dist-packages (from pyasn1-modules>=0.2.1->google-auth>=1.12.0->gspread) (0.4.8)\n",
            "Requirement already satisfied: requests>=2.0.0 in /usr/local/lib/python3.7/dist-packages (from requests-oauthlib>=0.7.0->google-auth-oauthlib>=0.4.1->gspread) (2.23.0)\n",
            "Requirement already satisfied: oauthlib>=3.0.0 in /usr/local/lib/python3.7/dist-packages (from requests-oauthlib>=0.7.0->google-auth-oauthlib>=0.4.1->gspread) (3.2.0)\n",
            "Requirement already satisfied: certifi>=2017.4.17 in /usr/local/lib/python3.7/dist-packages (from requests>=2.0.0->requests-oauthlib>=0.7.0->google-auth-oauthlib>=0.4.1->gspread) (2021.10.8)\n",
            "Requirement already satisfied: chardet<4,>=3.0.2 in /usr/local/lib/python3.7/dist-packages (from requests>=2.0.0->requests-oauthlib>=0.7.0->google-auth-oauthlib>=0.4.1->gspread) (3.0.4)\n",
            "Requirement already satisfied: urllib3!=1.25.0,!=1.25.1,<1.26,>=1.21.1 in /usr/local/lib/python3.7/dist-packages (from requests>=2.0.0->requests-oauthlib>=0.7.0->google-auth-oauthlib>=0.4.1->gspread) (1.24.3)\n",
            "Requirement already satisfied: idna<3,>=2.5 in /usr/local/lib/python3.7/dist-packages (from requests>=2.0.0->requests-oauthlib>=0.7.0->google-auth-oauthlib>=0.4.1->gspread) (2.10)\n",
            "Installing collected packages: gspread\n",
            "  Attempting uninstall: gspread\n",
            "    Found existing installation: gspread 3.4.2\n",
            "    Uninstalling gspread-3.4.2:\n",
            "      Successfully uninstalled gspread-3.4.2\n",
            "Successfully installed gspread-5.3.2\n"
          ]
        }
      ]
    },
    {
      "cell_type": "code",
      "metadata": {
        "id": "SuxMbhTm5L5r",
        "colab": {
          "base_uri": "https://localhost:8080/"
        },
        "outputId": "734e74cb-6b24-4173-ba7c-2f8864d0dbcc"
      },
      "source": [
        "!pip install --upgrade discord.py"
      ],
      "execution_count": 2,
      "outputs": [
        {
          "output_type": "stream",
          "name": "stdout",
          "text": [
            "Collecting discord.py\n",
            "  Downloading discord.py-1.7.3-py3-none-any.whl (786 kB)\n",
            "\u001b[K     |████████████████████████████████| 786 kB 26.9 MB/s \n",
            "\u001b[?25hCollecting aiohttp<3.8.0,>=3.6.0\n",
            "  Downloading aiohttp-3.7.4.post0-cp37-cp37m-manylinux2014_x86_64.whl (1.3 MB)\n",
            "\u001b[K     |████████████████████████████████| 1.3 MB 60.0 MB/s \n",
            "\u001b[?25hRequirement already satisfied: typing-extensions>=3.6.5 in /usr/local/lib/python3.7/dist-packages (from aiohttp<3.8.0,>=3.6.0->discord.py) (4.1.1)\n",
            "Requirement already satisfied: chardet<5.0,>=2.0 in /usr/local/lib/python3.7/dist-packages (from aiohttp<3.8.0,>=3.6.0->discord.py) (3.0.4)\n",
            "Requirement already satisfied: attrs>=17.3.0 in /usr/local/lib/python3.7/dist-packages (from aiohttp<3.8.0,>=3.6.0->discord.py) (21.4.0)\n",
            "Collecting multidict<7.0,>=4.5\n",
            "  Downloading multidict-6.0.2-cp37-cp37m-manylinux_2_17_x86_64.manylinux2014_x86_64.whl (94 kB)\n",
            "\u001b[K     |████████████████████████████████| 94 kB 3.6 MB/s \n",
            "\u001b[?25hCollecting yarl<2.0,>=1.0\n",
            "  Downloading yarl-1.7.2-cp37-cp37m-manylinux_2_5_x86_64.manylinux1_x86_64.manylinux_2_12_x86_64.manylinux2010_x86_64.whl (271 kB)\n",
            "\u001b[K     |████████████████████████████████| 271 kB 50.7 MB/s \n",
            "\u001b[?25hCollecting async-timeout<4.0,>=3.0\n",
            "  Downloading async_timeout-3.0.1-py3-none-any.whl (8.2 kB)\n",
            "Requirement already satisfied: idna>=2.0 in /usr/local/lib/python3.7/dist-packages (from yarl<2.0,>=1.0->aiohttp<3.8.0,>=3.6.0->discord.py) (2.10)\n",
            "Installing collected packages: multidict, yarl, async-timeout, aiohttp, discord.py\n",
            "Successfully installed aiohttp-3.7.4.post0 async-timeout-3.0.1 discord.py-1.7.3 multidict-6.0.2 yarl-1.7.2\n"
          ]
        }
      ]
    },
    {
      "cell_type": "code",
      "metadata": {
        "id": "VVVHkAzT_FVX"
      },
      "source": [
        "import random\n",
        "import discord\n",
        "import asyncio\n",
        "import datetime\n",
        "import nest_asyncio\n",
        "nest_asyncio.apply()\n",
        "from discord.ext import commands\n"
      ],
      "execution_count": 3,
      "outputs": []
    },
    {
      "cell_type": "code",
      "metadata": {
        "id": "H2iDaBjVtb8J"
      },
      "source": [
        "from google.colab import auth\n",
        "auth.authenticate_user()\n",
        "\n",
        "import gspread\n",
        "from oauth2client.client import GoogleCredentials\n",
        "\n",
        "gc = gspread.authorize(GoogleCredentials.get_application_default())"
      ],
      "execution_count": null,
      "outputs": []
    },
    {
      "cell_type": "code",
      "metadata": {
        "id": "uJzvlYoou1_D"
      },
      "source": [
        "# Neste ponto eu tinha colocado o nome dos meus amigos, para publicação eu alterei os nomes\n",
        "# jogador1 = 1\n",
        "# jogador2 = 2\n",
        "# jogador3 = 3\n",
        "\n",
        "# Id dos discord dos jogadores\n",
        "players = {9999999999999 : 1 , 9999999999999:2 , \n",
        "           9999999999999 : 3 , 9999999999999 : 4}"
      ],
      "execution_count": 5,
      "outputs": []
    },
    {
      "cell_type": "code",
      "metadata": {
        "id": "PQKXk6dO_JOq"
      },
      "source": [
        "intents = discord.Intents.default()\n",
        "intents.members = True\n",
        "\n",
        "fichas = gc.open(\"Fichas RPG\")\n",
        "home = fichas.worksheet(\"Home\")\n",
        "\n",
        "client = discord.Client(intents=intents)\n",
        "client = commands.Bot(command_prefix='.', intents=intents)\n",
        "\n",
        "@client.event\n",
        "async def on_ready():\n",
        "  print(\"O BOT ESTÁ ONLINE\")\n",
        "\n",
        "# dado\n",
        "@client.command()\n",
        "async def r(ctx, exp):\n",
        "  x = exp.split(\"d\")\n",
        "  qtd = int(x[0])\n",
        "  lados = int(x[1])\n",
        "  valores = []\n",
        "  for c in range(0, qtd):\n",
        "    n = random.randint(1, lados)\n",
        "    valores.append(n)\n",
        "  await ctx.send(valores)\n",
        "  \n",
        "\n",
        "\n",
        "\n",
        "# teste normal\n",
        "@client.command()\n",
        "async def t(ctx, atributo : str):\n",
        "  n = random.randint(1,100)\n",
        "  quem = players[ctx.author.id]\n",
        "  teste = atributo.upper()\n",
        "  celula = home.find(teste) \n",
        "  atributos = int (home.cell(celula.row,quem + 1).value)\n",
        "  if n <= atributos:\n",
        "    await ctx.send(\"Passou no teste!\")\n",
        "    hard = atributos*0.1 \n",
        "    if n <= hard:\n",
        "      await ctx.send(\"Passou no Difícil\")\n",
        "  else:\n",
        "    await ctx.send(\"Não passou no teste\")\n",
        "  await ctx.send(f\"Você tirou {n} e sua perícia é {atributos}\")\n",
        "\n",
        "\n",
        "# teste dados extras\n",
        "@client.command()\n",
        "async def de(ctx, atributo : str, sinal = 0):\n",
        "  n1 = random.randint(1,100)\n",
        "  n2 = random.randint(1,100)\n",
        "  quem = players[ctx.author.id]\n",
        "  teste = atributo.upper()\n",
        "  celula = home.find(teste) \n",
        "  atributos = int (home.cell(celula.row,quem + 1).value)\n",
        "  if sinal == \"+\":\n",
        "    if n1 < n2:\n",
        "      n = n1\n",
        "    else:\n",
        "      n = n2\n",
        "  else:\n",
        "    if n1 < n2:\n",
        "      n = n2\n",
        "    else:\n",
        "      n = n1\n",
        "  if n <= atributos:\n",
        "    await ctx.send(\"Passou no teste!\")\n",
        "    hard = atributos*0.1\n",
        "    if n <= hard:\n",
        "      await ctx.send(\"Passou no Difícil\")\n",
        "  else:\n",
        "    await ctx.send(\"Não passou no teste\")\n",
        "  await ctx.send(f\"Você tirou {n1} e {n2} e sua perícia é {atributos}\")\n",
        "\n",
        "\n",
        "client.run (\"Token\")\n"
      ],
      "execution_count": null,
      "outputs": []
    }
  ]
}